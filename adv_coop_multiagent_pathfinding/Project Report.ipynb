{
 "cells": [
  {
   "cell_type": "markdown",
   "id": "jewish-knowing",
   "metadata": {},
   "source": [
    "# Implementation\n",
    "\n",
    "J'ai implémenté 3 algorithmes:\n",
    "* Local A\\* : A* indépendants au sein d'une équipe, avec recalcul des chemins en cas de blocage. \n",
    "* Cooperative A\\* : Ajouter le temps comme une troisieme dimesion pour eviter collisions.\n",
    "* Alpha-Beta Minimax : En utilisant la methode de cherche d'arbre, trouver la meilleure strategie evitant les collisions.\n"
   ]
  },
  {
   "cell_type": "markdown",
   "id": "bridal-white",
   "metadata": {},
   "source": [
    "# Cooperation\n",
    "\n",
    "| Algorithm      | Map | Gif|\n",
    "| :-----------: | :-----------: | :-----------: |\n",
    "| Local A\\*, Cooperative A\\*, Alpha-Beta Minimax      |<img src=\"media/map2.png\" width=\"250\" /> |<img src=\"media/local_map2_coop.gif\" width=\"250\" />  |\n",
    "| Cooperative A\\*, Alpha-Beta Minimax   |<img src=\"media/map3.png\" width=\"250\" />  |<img src=\"media/coop_map3_coop.gif\" width=\"250\" />        |\n",
    "| Alpha-Beta Minimax|<img src=\"media/map4.png\" width=\"250\" />  |<img src=\"media/alpha_map4_coop.gif\" width=\"250\" />        |"
   ]
  },
  {
   "cell_type": "markdown",
   "id": "honest-fever",
   "metadata": {},
   "source": [
    "# Adversaires\n",
    "| Algorithm      | Map | Gif|\n",
    "| :-----------: | :-----------: | :-----------: |\n",
    "| Local A\\*, Cooperative A\\*, Alpha-Beta Minimax      |<img src=\"media/map5.png\" width=\"250\" /> |<img src=\"media/alpha_map5_adv.gif\" width=\"250\" />  |\n"
   ]
  },
  {
   "cell_type": "markdown",
   "id": "motivated-installation",
   "metadata": {},
   "source": [
    "# Local A\\* vs Cooperative A\\*\n",
    "\n",
    "* 30 iterations\n",
    "* Local A\\* vs Cooperative A\\*\n",
    "* Buts aleatoires chaque joue\n",
    "* Agents aleatoires chaque joue\n",
    "|Gif | Results|\n",
    "|:-: | :-: |\n",
    "|<img src=\"media/adversarial.gif\" width=\"450\" /> |  <img src=\"media/local_vs_coop.png\" width=\"470\" /> |"
   ]
  },
  {
   "cell_type": "code",
   "execution_count": null,
   "id": "accomplished-outside",
   "metadata": {},
   "outputs": [],
   "source": []
  }
 ],
 "metadata": {
  "kernelspec": {
   "display_name": "Python 3",
   "language": "python",
   "name": "python3"
  },
  "language_info": {
   "codemirror_mode": {
    "name": "ipython",
    "version": 3
   },
   "file_extension": ".py",
   "mimetype": "text/x-python",
   "name": "python",
   "nbconvert_exporter": "python",
   "pygments_lexer": "ipython3",
   "version": "3.6.9"
  }
 },
 "nbformat": 4,
 "nbformat_minor": 5
}
